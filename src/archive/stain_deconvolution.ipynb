{
 "cells": [
  {
   "cell_type": "code",
   "execution_count": 1,
   "metadata": {},
   "outputs": [],
   "source": [
    "import os\n",
    "import yaml\n",
    "from pathlib import Path\n",
    "from PIL import Image\n",
    "from scipy import linalg\n",
    "\n",
    "import numpy as np\n",
    "import skimage\n",
    "from matplotlib import pyplot as plt\n",
    "from openslide import OpenSlide\n",
    "\n",
    "from src.utils import *"
   ]
  },
  {
   "cell_type": "code",
   "execution_count": 2,
   "metadata": {},
   "outputs": [
    {
     "data": {
      "text/plain": [
       "{'dataset_path': '/Users/cmkim/workspace/datasets/TIGER/'}"
      ]
     },
     "execution_count": 2,
     "metadata": {},
     "output_type": "execute_result"
    }
   ],
   "source": [
    "config = load_config()\n",
    "config"
   ]
  },
  {
   "cell_type": "code",
   "execution_count": 3,
   "metadata": {},
   "outputs": [
    {
     "data": {
      "text/plain": [
       "PosixPath('/Users/cmkim/workspace/datasets/TIGER')"
      ]
     },
     "execution_count": 3,
     "metadata": {},
     "output_type": "execute_result"
    }
   ],
   "source": [
    "dataset_path = Path(config[\"dataset_path\"])\n",
    "dataset_path"
   ]
  },
  {
   "cell_type": "code",
   "execution_count": 4,
   "metadata": {},
   "outputs": [
    {
     "data": {
      "text/plain": [
       "PosixPath('/Users/cmkim/workspace/datasets/TIGER/wsibulk/images')"
      ]
     },
     "execution_count": 4,
     "metadata": {},
     "output_type": "execute_result"
    }
   ],
   "source": [
    "# subset_path = dataset_path / \"wsirois/wsi-level-annotations/images\"\n",
    "subset_path = dataset_path / \"wsibulk/images\"\n",
    "\n",
    "subset_path"
   ]
  },
  {
   "cell_type": "code",
   "execution_count": 5,
   "metadata": {},
   "outputs": [
    {
     "data": {
      "text/plain": [
       "PosixPath('/Users/cmkim/workspace/datasets/TIGER/wsibulk/images/119S.tif')"
      ]
     },
     "execution_count": 5,
     "metadata": {},
     "output_type": "execute_result"
    }
   ],
   "source": [
    "# wsi_path = subset_path / os.listdir(subset_path)[0]\n",
    "# wsi_path = subset_path / \"111S.tif\"\n",
    "# wsi_path = subset_path / \"103S.tif\"\n",
    "wsi_path = subset_path / \"119S.tif\"\n",
    "\n",
    "wsi_path"
   ]
  },
  {
   "cell_type": "code",
   "execution_count": 6,
   "metadata": {},
   "outputs": [
    {
     "data": {
      "text/plain": [
       "OpenSlide(PosixPath('/Users/cmkim/workspace/datasets/TIGER/wsibulk/images/119S.tif'))"
      ]
     },
     "execution_count": 6,
     "metadata": {},
     "output_type": "execute_result"
    }
   ],
   "source": [
    "slide = OpenSlide(filename=wsi_path)\n",
    "slide"
   ]
  },
  {
   "cell_type": "code",
   "execution_count": 7,
   "metadata": {},
   "outputs": [],
   "source": [
    "level_d = slide.level_dimensions"
   ]
  },
  {
   "cell_type": "code",
   "execution_count": 8,
   "metadata": {},
   "outputs": [],
   "source": [
    "level = slide.get_best_level_for_downsample(32)"
   ]
  },
  {
   "cell_type": "code",
   "execution_count": 9,
   "metadata": {},
   "outputs": [],
   "source": [
    "rgb = np.array(\n",
    "    slide.read_region(\n",
    "        location=(0, 0),\n",
    "        level=level, \n",
    "        size=level_d[level]\n",
    "    )\n",
    ")"
   ]
  },
  {
   "cell_type": "code",
   "execution_count": 10,
   "metadata": {},
   "outputs": [],
   "source": [
    "if rgb.shape[-1] == 4:\n",
    "    rgb = rgba2rgb(rgb)"
   ]
  },
  {
   "cell_type": "markdown",
   "metadata": {},
   "source": [
    "## optical density"
   ]
  },
  {
   "cell_type": "code",
   "execution_count": 11,
   "metadata": {},
   "outputs": [
    {
     "data": {
      "text/plain": [
       "array([[[0.90980392, 0.89019608, 0.90588235],\n",
       "        [0.90980392, 0.89019608, 0.90588235],\n",
       "        [0.90980392, 0.89019608, 0.90588235],\n",
       "        ...,\n",
       "        [0.90980392, 0.89411765, 0.89803922],\n",
       "        [0.90196078, 0.89411765, 0.89803922],\n",
       "        [0.90196078, 0.89411765, 0.89803922]],\n",
       "\n",
       "       [[0.90980392, 0.89019608, 0.90588235],\n",
       "        [0.90980392, 0.89019608, 0.90588235],\n",
       "        [0.90980392, 0.89019608, 0.90588235],\n",
       "        ...,\n",
       "        [0.90980392, 0.89411765, 0.89803922],\n",
       "        [0.90196078, 0.89411765, 0.89803922],\n",
       "        [0.90196078, 0.89411765, 0.89803922]],\n",
       "\n",
       "       [[0.90980392, 0.89019608, 0.90588235],\n",
       "        [0.90980392, 0.89019608, 0.90588235],\n",
       "        [0.90980392, 0.89019608, 0.90588235],\n",
       "        ...,\n",
       "        [0.90980392, 0.89411765, 0.89803922],\n",
       "        [0.90196078, 0.89411765, 0.89803922],\n",
       "        [0.90196078, 0.89411765, 0.89803922]],\n",
       "\n",
       "       ...,\n",
       "\n",
       "       [[0.91764706, 0.90196078, 0.90588235],\n",
       "        [0.91764706, 0.90196078, 0.90588235],\n",
       "        [0.91764706, 0.90196078, 0.90588235],\n",
       "        ...,\n",
       "        [0.90980392, 0.89411765, 0.89803922],\n",
       "        [0.90196078, 0.89411765, 0.89803922],\n",
       "        [0.90196078, 0.89411765, 0.89803922]],\n",
       "\n",
       "       [[0.89803922, 0.89019608, 0.89411765],\n",
       "        [0.89803922, 0.89019608, 0.89411765],\n",
       "        [0.89803922, 0.89019608, 0.89411765],\n",
       "        ...,\n",
       "        [0.89803922, 0.88235294, 0.88627451],\n",
       "        [0.89019608, 0.88235294, 0.88627451],\n",
       "        [0.89019608, 0.88235294, 0.88627451]],\n",
       "\n",
       "       [[0.90588235, 0.89803922, 0.90196078],\n",
       "        [0.90588235, 0.89803922, 0.90196078],\n",
       "        [0.90588235, 0.89803922, 0.90196078],\n",
       "        ...,\n",
       "        [0.90980392, 0.89411765, 0.89803922],\n",
       "        [0.90196078, 0.89411765, 0.89803922],\n",
       "        [0.90196078, 0.89411765, 0.89803922]]], shape=(1356, 1736, 3))"
      ]
     },
     "execution_count": 11,
     "metadata": {},
     "output_type": "execute_result"
    }
   ],
   "source": [
    "transmission = skimage.util.img_as_float(rgb, force_copy=True)\n",
    "np.maximum(transmission, 1e-6, out=transmission)"
   ]
  },
  {
   "cell_type": "code",
   "execution_count": 12,
   "metadata": {},
   "outputs": [
    {
     "data": {
      "text/plain": [
       "array([[[0.00684203, 0.00841905, 0.0071547 ],\n",
       "        [0.00684203, 0.00841905, 0.0071547 ],\n",
       "        [0.00684203, 0.00841905, 0.0071547 ],\n",
       "        ...,\n",
       "        [0.00684203, 0.00810089, 0.00778412],\n",
       "        [0.00746872, 0.00810089, 0.00778412],\n",
       "        [0.00746872, 0.00810089, 0.00778412]],\n",
       "\n",
       "       [[0.00684203, 0.00841905, 0.0071547 ],\n",
       "        [0.00684203, 0.00841905, 0.0071547 ],\n",
       "        [0.00684203, 0.00841905, 0.0071547 ],\n",
       "        ...,\n",
       "        [0.00684203, 0.00810089, 0.00778412],\n",
       "        [0.00746872, 0.00810089, 0.00778412],\n",
       "        [0.00746872, 0.00810089, 0.00778412]],\n",
       "\n",
       "       [[0.00684203, 0.00841905, 0.0071547 ],\n",
       "        [0.00684203, 0.00841905, 0.0071547 ],\n",
       "        [0.00684203, 0.00841905, 0.0071547 ],\n",
       "        ...,\n",
       "        [0.00684203, 0.00810089, 0.00778412],\n",
       "        [0.00746872, 0.00810089, 0.00778412],\n",
       "        [0.00746872, 0.00810089, 0.00778412]],\n",
       "\n",
       "       ...,\n",
       "\n",
       "       [[0.00622072, 0.00746872, 0.0071547 ],\n",
       "        [0.00622072, 0.00746872, 0.0071547 ],\n",
       "        [0.00622072, 0.00746872, 0.0071547 ],\n",
       "        ...,\n",
       "        [0.00684203, 0.00810089, 0.00778412],\n",
       "        [0.00746872, 0.00810089, 0.00778412],\n",
       "        [0.00746872, 0.00810089, 0.00778412]],\n",
       "\n",
       "       [[0.00778412, 0.00841905, 0.00810089],\n",
       "        [0.00778412, 0.00841905, 0.00810089],\n",
       "        [0.00778412, 0.00841905, 0.00810089],\n",
       "        ...,\n",
       "        [0.00778412, 0.00905961, 0.00873862],\n",
       "        [0.00841905, 0.00905961, 0.00873862],\n",
       "        [0.00841905, 0.00905961, 0.00873862]],\n",
       "\n",
       "       [[0.0071547 , 0.00778412, 0.00746872],\n",
       "        [0.0071547 , 0.00778412, 0.00746872],\n",
       "        [0.0071547 , 0.00778412, 0.00746872],\n",
       "        ...,\n",
       "        [0.00684203, 0.00810089, 0.00778412],\n",
       "        [0.00746872, 0.00810089, 0.00778412],\n",
       "        [0.00746872, 0.00810089, 0.00778412]]], shape=(1356, 1736, 3))"
      ]
     },
     "execution_count": 12,
     "metadata": {},
     "output_type": "execute_result"
    }
   ],
   "source": [
    "od = np.log(transmission) / np.log(1e-6)\n",
    "od"
   ]
  },
  {
   "cell_type": "markdown",
   "metadata": {},
   "source": [
    "## color deconvolution"
   ]
  },
  {
   "cell_type": "code",
   "execution_count": null,
   "metadata": {},
   "outputs": [],
   "source": [
    "stain_matrix = StainConcentrationMatrix.hed()"
   ]
  },
  {
   "cell_type": "code",
   "execution_count": null,
   "metadata": {},
   "outputs": [],
   "source": [
    "stains = od @ linalg.inv(stain_matrix)\n",
    "# np.maximum(stains, 0, out=stains)"
   ]
  }
 ],
 "metadata": {
  "kernelspec": {
   "display_name": "wpp-GnbaLhlR-py3.13",
   "language": "python",
   "name": "python3"
  },
  "language_info": {
   "codemirror_mode": {
    "name": "ipython",
    "version": 3
   },
   "file_extension": ".py",
   "mimetype": "text/x-python",
   "name": "python",
   "nbconvert_exporter": "python",
   "pygments_lexer": "ipython3",
   "version": "3.13.2"
  }
 },
 "nbformat": 4,
 "nbformat_minor": 2
}
